{
 "cells": [
  {
   "cell_type": "code",
   "execution_count": 1,
   "id": "e44f5268",
   "metadata": {},
   "outputs": [
    {
     "name": "stdout",
     "output_type": "stream",
     "text": [
      "Distribución en train: Counter({1.0: 12500, 0.0: 12500})\n",
      "Distribución en test : Counter({1.0: 12500, 0.0: 12500})\n"
     ]
    }
   ],
   "source": [
    "import torch\n",
    "import torch.nn as nn\n",
    "import torch.nn.functional as F\n",
    "from torch.utils.data import DataLoader, Dataset\n",
    "from torchtext.datasets import IMDB\n",
    "from torchtext.data.utils import get_tokenizer\n",
    "from torchtext.vocab import build_vocab_from_iterator\n",
    "from sklearn.metrics import accuracy_score, precision_score, recall_score, f1_score\n",
    "import matplotlib.pyplot as plt\n",
    "import numpy as np\n",
    "from tqdm import tqdm\n",
    "import random\n",
    "import os\n",
    "from collections import Counter\n",
    "\n",
    "device = torch.device(\"cuda\" if torch.cuda.is_available() else \"cpu\")\n",
    "SEED = 42\n",
    "torch.manual_seed(SEED)\n",
    "\n",
    "# Hiperparámetros\n",
    "BATCH_SIZE = 32\n",
    "EMBED_DIM = 128\n",
    "NUM_HEADS = 4\n",
    "NUM_ENCODER_LAYERS = 2\n",
    "HIDDEN_DIM = 256\n",
    "DROPOUT = 0.2\n",
    "MAX_LEN = 200\n",
    "EPOCHS = 15\n",
    "\n",
    "# Tokenizador\n",
    "tokenizer = get_tokenizer(\"basic_english\")\n",
    "\n",
    "# Construir vocabulario\n",
    "def yield_tokens(data_iter):\n",
    "    for _, text in data_iter:\n",
    "        yield tokenizer(text)\n",
    "\n",
    "train_iter = IMDB(split='train')\n",
    "vocab = build_vocab_from_iterator(yield_tokens(train_iter), specials=[\"<pad>\", \"<unk>\"])\n",
    "vocab.set_default_index(vocab[\"<unk>\"])\n",
    "\n",
    "# Redefinir iteradores tras consumirlos\n",
    "train_iter = IMDB(split='train')\n",
    "test_iter = IMDB(split='test')\n",
    "\n",
    "# Funciones de procesamiento\n",
    "def encode(text):\n",
    "    return vocab(tokenizer(text))[:MAX_LEN]\n",
    "\n",
    "def pad_sequence(seq):\n",
    "    return seq + [vocab[\"<pad>\"]] * (MAX_LEN - len(seq))\n",
    "\n",
    "def preprocess(example):\n",
    "    label, text = example\n",
    "\n",
    "    # Decodificar si viene como bytes\n",
    "    if isinstance(label, bytes):\n",
    "        label = label.decode(\"utf-8\")\n",
    "    if isinstance(text, bytes):\n",
    "        text = text.decode(\"utf-8\")\n",
    "\n",
    "    # Normalizar etiqueta a 0.0 o 1.0\n",
    "    if isinstance(label, int):\n",
    "        label_tensor = torch.tensor(1.0 if label == 1 else 0.0)\n",
    "    elif isinstance(label, str):\n",
    "        label = label.strip().lower()\n",
    "        if label == \"pos\":\n",
    "            label_tensor = torch.tensor(1.0)\n",
    "        elif label == \"neg\":\n",
    "            label_tensor = torch.tensor(0.0)\n",
    "        else:\n",
    "            raise ValueError(f\"Etiqueta desconocida: {label}\")\n",
    "    else:\n",
    "        raise TypeError(f\"Tipo inesperado en etiqueta: {type(label)}\")\n",
    "\n",
    "    text_tensor = torch.tensor(pad_sequence(encode(text)), dtype=torch.long)\n",
    "    return text_tensor, label_tensor\n",
    "\n",
    "# Dataset personalizado\n",
    "class IMDbDataset(Dataset):\n",
    "    def __init__(self, data_iter):\n",
    "        self.data = [preprocess(x) for x in data_iter]\n",
    "\n",
    "    def __len__(self):\n",
    "        return len(self.data)\n",
    "\n",
    "    def __getitem__(self, idx):\n",
    "        return self.data[idx]\n",
    "\n",
    "# Crear datasets\n",
    "train_dataset = IMDbDataset(train_iter)\n",
    "test_dataset = IMDbDataset(test_iter)\n",
    "\n",
    "# Verificar distribución\n",
    "print(\"Distribución en train:\", Counter([y.item() for _, y in train_dataset]))\n",
    "print(\"Distribución en test :\", Counter([y.item() for _, y in test_dataset]))\n",
    "\n",
    "# Dataloaders\n",
    "train_loader = DataLoader(train_dataset, batch_size=BATCH_SIZE, shuffle=True)\n",
    "test_loader = DataLoader(test_dataset, batch_size=BATCH_SIZE, shuffle=False)\n"
   ]
  },
  {
   "cell_type": "code",
   "execution_count": 2,
   "id": "21a3afd7",
   "metadata": {},
   "outputs": [
    {
     "name": "stderr",
     "output_type": "stream",
     "text": [
      "/opt/conda/lib/python3.10/site-packages/torch/nn/modules/transformer.py:282: UserWarning: enable_nested_tensor is True, but self.use_nested_tensor is False because encoder_layer.self_attn.batch_first was not True(use batch_first for better inference performance)\n",
      "  warnings.warn(f\"enable_nested_tensor is True, but self.use_nested_tensor is False because {why_not_sparsity_fast_path}\")\n",
      "Epoch 1/15: 100%|██████████| 782/782 [00:23<00:00, 32.96it/s] \n"
     ]
    },
    {
     "name": "stdout",
     "output_type": "stream",
     "text": [
      "\n",
      "Epoch 1\n",
      "Loss     : 373.4786\n",
      "Accuracy : 0.8230\n",
      "Precision: 0.8135\n",
      "Recall   : 0.8382\n",
      "F1-Score : 0.8256\n",
      "\n",
      "✅ Modelo actualizado y guardado (mejor F1)\n",
      "\n"
     ]
    },
    {
     "name": "stderr",
     "output_type": "stream",
     "text": [
      "Epoch 2/15: 100%|██████████| 782/782 [00:24<00:00, 32.21it/s] \n"
     ]
    },
    {
     "name": "stdout",
     "output_type": "stream",
     "text": [
      "\n",
      "Epoch 2\n",
      "Loss     : 237.6848\n",
      "Accuracy : 0.8311\n",
      "Precision: 0.7987\n",
      "Recall   : 0.8854\n",
      "F1-Score : 0.8398\n",
      "\n",
      "✅ Modelo actualizado y guardado (mejor F1)\n",
      "\n"
     ]
    },
    {
     "name": "stderr",
     "output_type": "stream",
     "text": [
      "Epoch 3/15: 100%|██████████| 782/782 [00:24<00:00, 32.04it/s] \n"
     ]
    },
    {
     "name": "stdout",
     "output_type": "stream",
     "text": [
      "\n",
      "Epoch 3\n",
      "Loss     : 167.3830\n",
      "Accuracy : 0.8342\n",
      "Precision: 0.8454\n",
      "Recall   : 0.8179\n",
      "F1-Score : 0.8315\n",
      "\n"
     ]
    },
    {
     "name": "stderr",
     "output_type": "stream",
     "text": [
      "Epoch 4/15: 100%|██████████| 782/782 [00:23<00:00, 32.63it/s] \n"
     ]
    },
    {
     "name": "stdout",
     "output_type": "stream",
     "text": [
      "\n",
      "Epoch 4\n",
      "Loss     : 115.7643\n",
      "Accuracy : 0.8258\n",
      "Precision: 0.7973\n",
      "Recall   : 0.8739\n",
      "F1-Score : 0.8338\n",
      "\n"
     ]
    },
    {
     "name": "stderr",
     "output_type": "stream",
     "text": [
      "Epoch 5/15: 100%|██████████| 782/782 [00:25<00:00, 31.06it/s] \n"
     ]
    },
    {
     "name": "stdout",
     "output_type": "stream",
     "text": [
      "\n",
      "Epoch 5\n",
      "Loss     : 80.6062\n",
      "Accuracy : 0.8187\n",
      "Precision: 0.8115\n",
      "Recall   : 0.8302\n",
      "F1-Score : 0.8207\n",
      "\n",
      "⏹️ Early stopping activado. No hubo mejora en F1 durante 3 épocas.\n",
      "\n"
     ]
    },
    {
     "data": {
      "image/png": "[encoded data removed]",
      "text/plain": [
       "<Figure size 1200x500 with 2 Axes>"
      ]
     },
     "metadata": {},
     "output_type": "display_data"
    }
   ],
   "source": [
    "import os\n",
    "os.environ[\"CUDA_LAUNCH_BLOCKING\"] = \"1\"\n",
    "\n",
    "class SentimentTransformer(nn.Module):\n",
    "    def __init__(self, vocab_size, embed_dim, num_heads, hidden_dim, num_layers, dropout):\n",
    "        super().__init__()\n",
    "        self.embedding = nn.Embedding(vocab_size, embed_dim)\n",
    "        encoder_layer = nn.TransformerEncoderLayer(\n",
    "            d_model=embed_dim,\n",
    "            nhead=num_heads,\n",
    "            dim_feedforward=hidden_dim,\n",
    "            dropout=dropout\n",
    "        )\n",
    "        self.transformer_encoder = nn.TransformerEncoder(encoder_layer, num_layers=num_layers)\n",
    "        self.fc = nn.Linear(embed_dim, 1)\n",
    "        self.dropout = nn.Dropout(dropout)\n",
    "\n",
    "    def forward(self, x):\n",
    "        emb = self.embedding(x)\n",
    "        emb = emb.permute(1, 0, 2)\n",
    "        out = self.transformer_encoder(emb)\n",
    "        out = out.mean(dim=0)\n",
    "        out = self.dropout(out)\n",
    "        return torch.sigmoid(self.fc(out)).view(-1)  # <- Evita errores con BCELoss\n",
    "\n",
    "model = SentimentTransformer(\n",
    "    vocab_size=len(vocab),\n",
    "    embed_dim=EMBED_DIM,\n",
    "    num_heads=NUM_HEADS,\n",
    "    hidden_dim=HIDDEN_DIM,\n",
    "    num_layers=NUM_ENCODER_LAYERS,\n",
    "    dropout=DROPOUT\n",
    ").to(device)\n",
    "\n",
    "criterion = nn.BCELoss()\n",
    "optimizer = torch.optim.Adam(model.parameters(), lr=1e-3)\n",
    "\n",
    "def evaluate(model, dataloader):\n",
    "    model.eval()\n",
    "    preds, targets = [], []\n",
    "    with torch.no_grad():\n",
    "        for x, y in dataloader:\n",
    "            x = x.to(device)\n",
    "            y = y.to(device).float().view(-1)\n",
    "            outputs = model(x).view(-1)\n",
    "            preds += (outputs > 0.5).int().cpu().tolist()\n",
    "            targets += y.cpu().int().tolist()\n",
    "    return {\n",
    "        \"accuracy\": accuracy_score(targets, preds),\n",
    "        \"precision\": precision_score(targets, preds, zero_division=0),\n",
    "        \"recall\": recall_score(targets, preds, zero_division=0),\n",
    "        \"f1\": f1_score(targets, preds, zero_division=0)\n",
    "    }\n",
    "\n",
    "# Entrenamiento con seguimiento\n",
    "historial_loss = []\n",
    "historial_accuracy = []\n",
    "historial_f1 = []\n",
    "mejor_f1 = 0.0\n",
    "espera = 0\n",
    "patience = 3\n",
    "\n",
    "for epoch in range(EPOCHS):\n",
    "    model.train()\n",
    "    total_loss = 0\n",
    "    for x, y in tqdm(train_loader, desc=f\"Epoch {epoch+1}/{EPOCHS}\"):\n",
    "        x = x.to(device)\n",
    "        y = y.to(device).float().view(-1)\n",
    "        optimizer.zero_grad()\n",
    "        outputs = model(x).view(-1)\n",
    "\n",
    "        # Debug temporal (eliminar después)\n",
    "        if torch.any((outputs < 0) | (outputs > 1)):\n",
    "            print(\"⚠️ Warning: Outputs fuera de rango:\", outputs)\n",
    "        if torch.any((y != 0) & (y != 1)):\n",
    "            print(\"⚠️ Warning: Targets inválidos:\", y)\n",
    "\n",
    "        loss = criterion(outputs, y)\n",
    "        loss.backward()\n",
    "        optimizer.step()\n",
    "        total_loss += loss.item()\n",
    "\n",
    "    eval_result = evaluate(model, test_loader)\n",
    "    historial_loss.append(total_loss)\n",
    "    historial_accuracy.append(eval_result[\"accuracy\"])\n",
    "    historial_f1.append(eval_result[\"f1\"])\n",
    "\n",
    "    print(f\"\\nEpoch {epoch+1}\")\n",
    "    print(f\"Loss     : {total_loss:.4f}\")\n",
    "    print(f\"Accuracy : {eval_result['accuracy']:.4f}\")\n",
    "    print(f\"Precision: {eval_result['precision']:.4f}\")\n",
    "    print(f\"Recall   : {eval_result['recall']:.4f}\")\n",
    "    print(f\"F1-Score : {eval_result['f1']:.4f}\\n\")\n",
    "\n",
    "    if eval_result[\"f1\"] > mejor_f1:\n",
    "        mejor_f1 = eval_result[\"f1\"]\n",
    "        espera = 0\n",
    "        torch.save(model.state_dict(), \"../modelos/modelo_sentimiento.pth\")\n",
    "        print(\"✅ Modelo actualizado y guardado (mejor F1)\\n\")\n",
    "    else:\n",
    "        espera += 1\n",
    "        if espera >= patience:\n",
    "            print(f\"⏹️ Early stopping activado. No hubo mejora en F1 durante {patience} épocas.\\n\")\n",
    "            break\n",
    "\n",
    "# Gráficos de evolución\n",
    "plt.figure(figsize=(12, 5))\n",
    "\n",
    "plt.subplot(1, 2, 1)\n",
    "plt.plot(historial_loss, marker='o', label='Loss')\n",
    "plt.title(\"Loss por época\")\n",
    "plt.xlabel(\"Época\")\n",
    "plt.ylabel(\"Loss\")\n",
    "plt.grid(True)\n",
    "\n",
    "plt.subplot(1, 2, 2)\n",
    "plt.plot(historial_accuracy, marker='o', label='Accuracy')\n",
    "plt.plot(historial_f1, marker='x', label='F1-score')\n",
    "plt.title(\"Accuracy y F1 por época\")\n",
    "plt.xlabel(\"Época\")\n",
    "plt.ylabel(\"Valor\")\n",
    "plt.legend()\n",
    "plt.grid(True)\n",
    "\n",
    "plt.tight_layout()\n",
    "plt.show()\n"
   ]
  },
  {
   "cell_type": "code",
   "execution_count": 3,
   "id": "cbfccda0",
   "metadata": {},
   "outputs": [
    {
     "name": "stdout",
     "output_type": "stream",
     "text": [
      "Train: Counter({1.0: 12500, 0.0: 12500})\n",
      "Test : Counter({1.0: 12500, 0.0: 12500})\n"
     ]
    }
   ],
   "source": [
    "from collections import Counter\n",
    "print(\"Train:\", Counter([y.item() for _, y in train_dataset]))\n",
    "print(\"Test :\", Counter([y.item() for _, y in test_dataset]))"
   ]
  },
  {
   "cell_type": "code",
   "execution_count": null,
   "id": "3e2eb105",
   "metadata": {},
   "outputs": [
    {
     "data": {
      "application/vnd.jupyter.widget-view+json": {
       "model_id": "675ca0c2ef52464f8c045c09c7be8ff9",
       "version_major": 2,
       "version_minor": 0
      },
      "text/plain": [
       "Textarea(value='', description='Reseña:', layout=Layout(height='100px', width='100%'), placeholder='Escribe un…"
      ]
     },
     "metadata": {},
     "output_type": "display_data"
    },
    {
     "data": {
      "application/vnd.jupyter.widget-view+json": {
       "model_id": "abd9245332c9442eb3bd24dc5876a5b9",
       "version_major": 2,
       "version_minor": 0
      },
      "text/plain": [
       "Button(button_style='info', description='Predecir sentimiento', style=ButtonStyle())"
      ]
     },
     "metadata": {},
     "output_type": "display_data"
    },
    {
     "data": {
      "application/vnd.jupyter.widget-view+json": {
       "model_id": "43dd891f2af8430595c92ecb9d650ad0",
       "version_major": 2,
       "version_minor": 0
      },
      "text/plain": [
       "Output()"
      ]
     },
     "metadata": {},
     "output_type": "display_data"
    }
   ],
   "source": [
    "import torch\n",
    "import torch.nn as nn\n",
    "import torch.nn.functional as F\n",
    "from torchtext.data.utils import get_tokenizer\n",
    "from torchtext.vocab import build_vocab_from_iterator\n",
    "from torchtext.datasets import IMDB\n",
    "import ipywidgets as widgets\n",
    "from IPython.display import display\n",
    "\n",
    "# === Configuración ===\n",
    "device = torch.device(\"cuda\" if torch.cuda.is_available() else \"cpu\")\n",
    "MAX_LEN = 200\n",
    "ruta_modelo = \"../modelos/modelo_sentimiento.pth\"\n",
    "\n",
    "# === Tokenizador y vocabulario ===\n",
    "tokenizer = get_tokenizer(\"basic_english\")\n",
    "\n",
    "def yield_tokens(data_iter):\n",
    "    for _, text in data_iter:\n",
    "        yield tokenizer(text)\n",
    "\n",
    "vocab = build_vocab_from_iterator(yield_tokens(IMDB(split='train')), specials=[\"<pad>\", \"<unk>\"])\n",
    "vocab.set_default_index(vocab[\"<unk>\"])\n",
    "\n",
    "def encode(text):\n",
    "    return vocab(tokenizer(text))[:MAX_LEN]\n",
    "\n",
    "def pad_sequence(seq):\n",
    "    return seq + [vocab[\"<pad>\"]] * (MAX_LEN - len(seq))\n",
    "\n",
    "# === Modelo ===\n",
    "class SentimentTransformer(nn.Module):\n",
    "    def __init__(self, vocab_size, embed_dim, num_heads, hidden_dim, num_layers, dropout):\n",
    "        super().__init__()\n",
    "        self.embedding = nn.Embedding(vocab_size, embed_dim)\n",
    "        encoder_layer = nn.TransformerEncoderLayer(\n",
    "            d_model=embed_dim,\n",
    "            nhead=num_heads,\n",
    "            dim_feedforward=hidden_dim,  # 👈 Coincide con el entrenamiento\n",
    "            dropout=dropout,\n",
    "            batch_first=True\n",
    "        )\n",
    "        self.transformer_encoder = nn.TransformerEncoder(encoder_layer, num_layers=num_layers)\n",
    "        self.fc = nn.Linear(embed_dim, 1)\n",
    "\n",
    "    def forward(self, x):\n",
    "        emb = self.embedding(x)\n",
    "        out = self.transformer_encoder(emb)\n",
    "        out = out.mean(dim=1)\n",
    "        return torch.sigmoid(self.fc(out)).squeeze(1)\n",
    "\n",
    "# === Cargar modelo ===\n",
    "model = SentimentTransformer(\n",
    "    vocab_size=len(vocab),\n",
    "    embed_dim=128,\n",
    "    num_heads=4,\n",
    "    hidden_dim=256,  # 👈 debe coincidir\n",
    "    num_layers=2,\n",
    "    dropout=0.2\n",
    ").to(device)\n",
    "\n",
    "model.load_state_dict(torch.load(ruta_modelo, map_location=device))\n",
    "model.eval()\n",
    "\n",
    "# === Widgets ===\n",
    "caja_texto = widgets.Textarea(\n",
    "    value='',\n",
    "    placeholder='Escribe una reseña en inglés...',\n",
    "    description='Reseña:',\n",
    "    layout=widgets.Layout(width='100%', height='100px')\n",
    ")\n",
    "\n",
    "boton = widgets.Button(description=\"Predecir sentimiento\", button_style='info')\n",
    "salida = widgets.Output()\n",
    "\n",
    "def on_click(b):\n",
    "    with salida:\n",
    "        salida.clear_output()\n",
    "        texto = caja_texto.value\n",
    "        ids = pad_sequence(encode(texto))\n",
    "        input_tensor = torch.tensor([ids], dtype=torch.long).to(device)\n",
    "        with torch.no_grad():\n",
    "            salida_modelo = model(input_tensor)\n",
    "            prob = salida_modelo.item()\n",
    "            clase = \"Negativo\" if prob >= 0.5 else \"Positivo\"\n",
    "            print(f\"Predicción: {clase} (confianza: {round(prob, 3)})\")\n",
    "\n",
    "boton.on_click(on_click)\n",
    "\n",
    "# === Mostrar interfaz ===\n",
    "display(caja_texto, boton, salida)\n"
   ]
  }
 ],
 "metadata": {
  "kernelspec": {
   "display_name": "base",
   "language": "python",
   "name": "python3"
  },
  "language_info": {
   "codemirror_mode": {
    "name": "ipython",
    "version": 3
   },
   "file_extension": ".py",
   "mimetype": "text/x-python",
   "name": "python",
   "nbconvert_exporter": "python",
   "pygments_lexer": "ipython3",
   "version": "3.10.13"
  }
 },
 "nbformat": 4,
 "nbformat_minor": 5
}
